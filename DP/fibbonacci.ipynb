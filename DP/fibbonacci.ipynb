{
 "cells": [
  {
   "cell_type": "markdown",
   "metadata": {},
   "source": [
    "## Memoization"
   ]
  },
  {
   "cell_type": "code",
   "execution_count": 1,
   "metadata": {},
   "outputs": [],
   "source": [
    "def fibb(n,dp):\n",
    "    if n==0 or n==1:\n",
    "        return n\n",
    "    if(dp[n-1]==-1):\n",
    "        ans1=fibb(n-1,dp)\n",
    "        dp[n-1]=ans1\n",
    "    else:\n",
    "        ans1=dp[n-1]\n",
    "    if(dp[n-2]==-1):\n",
    "        ans2=fibb(n-2,dp)\n",
    "        dp[n-2]=ans2\n",
    "    else:\n",
    "        ans2=dp[n-2]\n",
    "    return ans1+ans2"
   ]
  },
  {
   "cell_type": "code",
   "execution_count": 18,
   "metadata": {},
   "outputs": [],
   "source": [
    "n=5\n",
    "dp=[-1 for i in range(n)]"
   ]
  },
  {
   "cell_type": "code",
   "execution_count": 19,
   "metadata": {},
   "outputs": [
    {
     "data": {
      "text/plain": [
       "[-1, -1, -1, -1, -1]"
      ]
     },
     "execution_count": 19,
     "metadata": {},
     "output_type": "execute_result"
    }
   ],
   "source": [
    "dp"
   ]
  },
  {
   "cell_type": "code",
   "execution_count": 20,
   "metadata": {},
   "outputs": [
    {
     "data": {
      "text/plain": [
       "5"
      ]
     },
     "execution_count": 20,
     "metadata": {},
     "output_type": "execute_result"
    }
   ],
   "source": [
    "fibb(n,dp)"
   ]
  },
  {
   "cell_type": "markdown",
   "metadata": {},
   "source": [
    "## Iterative"
   ]
  },
  {
   "cell_type": "code",
   "execution_count": 31,
   "metadata": {},
   "outputs": [],
   "source": [
    "dp=[-1 for i in range(n+1)]"
   ]
  },
  {
   "cell_type": "code",
   "execution_count": 32,
   "metadata": {},
   "outputs": [
    {
     "name": "stdout",
     "output_type": "stream",
     "text": [
      "5\n"
     ]
    }
   ],
   "source": [
    "dp[0]=0\n",
    "dp[1]=1\n",
    "i=2\n",
    "while i<=n:\n",
    "    dp[i]=dp[i-1]+dp[i-2]\n",
    "    i+=1\n",
    "print(dp[i-1])"
   ]
  },
  {
   "cell_type": "markdown",
   "metadata": {},
   "source": [
    "## click twice to open Problem\n",
    "<!--Min Steps To 1\n",
    "Send Feedback\n",
    " Given a positive integer 'n', find and return the minimum number of steps that 'n' has to take to get reduced to 1. You can perform any one of the following 3 steps:\n",
    "1.) Subtract 1 from it. (n = n - ¬1) ,\n",
    "2.) If n is divisible by 2, divide by 2.( if n % 2 == 0, then n = n / 2 ) ,\n",
    "3.) If n is divisible by 3, divide by 3. (if n % 3 == 0, then n = n / 3 ).  \n",
    "Input format :\n",
    "The first and the only line of input contains an integer value, 'n'.\n",
    "Output format :\n",
    "Print the minimum number of steps.\n",
    "Constraints :\n",
    "1 <= n <= 10 ^ 6\n",
    "\n",
    "Time Limit: 1 sec\n",
    "Sample Input 1 :\n",
    "4\n",
    "Sample Output 1 :\n",
    "2 \n",
    "Explanation of Sample Output 1 :\n",
    "For n = 4\n",
    "Step 1 :  n = 4 / 2  = 2\n",
    "Step 2 : n = 2 / 2  =  1 \n",
    "Sample Input 2 :\n",
    "7\n",
    "Sample Output 2 :\n",
    "3\n",
    "Explanation of Sample Output 2 :\n",
    "For n = 7\n",
    "Step 1 :  n = 7 ¬- 1 = 6\n",
    "Step 2 : n = 6  / 3 = 2 \n",
    "Step 3 : n = 2 / 2 = 1   -->\n"
   ]
  },
  {
   "cell_type": "markdown",
   "metadata": {},
   "source": [
    "##Recursive"
   ]
  },
  {
   "cell_type": "code",
   "execution_count": 36,
   "metadata": {},
   "outputs": [],
   "source": [
    "import sys"
   ]
  },
  {
   "cell_type": "code",
   "execution_count": 53,
   "metadata": {},
   "outputs": [],
   "source": [
    "def minStepTo1(n):\n",
    "    if n==1:\n",
    "        return 0\n",
    "    ans1=sys.maxsize\n",
    "    if n%3==0:\n",
    "        ans1=minStepTo1(n//3)\n",
    "    ans2=sys.maxsize\n",
    "    if n%2==0:\n",
    "        ans2=minStepTo1(n//2)\n",
    "    ans3=minStepTo1(n-1)\n",
    "    \n",
    "    return 1+min(ans1,ans2,ans3)"
   ]
  },
  {
   "cell_type": "code",
   "execution_count": 58,
   "metadata": {},
   "outputs": [
    {
     "data": {
      "text/plain": [
       "6"
      ]
     },
     "execution_count": 58,
     "metadata": {},
     "output_type": "execute_result"
    }
   ],
   "source": [
    "minStepTo1(41)"
   ]
  },
  {
   "cell_type": "markdown",
   "metadata": {},
   "source": [
    "##Memoization"
   ]
  },
  {
   "cell_type": "code",
   "execution_count": 61,
   "metadata": {},
   "outputs": [],
   "source": [
    "def minStepI(n,dp):\n",
    "    if n==1:\n",
    "        return 0\n",
    "    ans1=sys.maxsize\n",
    "    if n%3==0:\n",
    "        if dp[n//3]==-1:\n",
    "            ans1=minStepI(n//3,dp)\n",
    "            dp[n//3]=ans1\n",
    "        else:\n",
    "            ans1=dp[n//3]\n",
    "    ans2=sys.maxsize\n",
    "    if n%2==0:\n",
    "        if dp[n//2]==-1:\n",
    "            ans2=minStepI(n//2,dp)\n",
    "            dp[n//2]=ans2\n",
    "        else:\n",
    "            ans2=dp[n//2]\n",
    "    if dp[n-1]==-1:\n",
    "        ans3=minStepI(n-1,dp)\n",
    "        dp[n-1]=ans3\n",
    "    else:\n",
    "        ans3=dp[n-1]\n",
    "    \n",
    "    return 1+min(ans1,ans2,ans3)"
   ]
  },
  {
   "cell_type": "code",
   "execution_count": 62,
   "metadata": {},
   "outputs": [],
   "source": [
    "n=41\n",
    "dp=[-1 for i in range(n)]"
   ]
  },
  {
   "cell_type": "code",
   "execution_count": 63,
   "metadata": {},
   "outputs": [
    {
     "data": {
      "text/plain": [
       "6"
      ]
     },
     "execution_count": 63,
     "metadata": {},
     "output_type": "execute_result"
    }
   ],
   "source": [
    "minStepI(n,dp)"
   ]
  },
  {
   "cell_type": "code",
   "execution_count": null,
   "metadata": {},
   "outputs": [],
   "source": []
  }
 ],
 "metadata": {
  "kernelspec": {
   "display_name": "Python 3",
   "language": "python",
   "name": "python3"
  },
  "language_info": {
   "codemirror_mode": {
    "name": "ipython",
    "version": 3
   },
   "file_extension": ".py",
   "mimetype": "text/x-python",
   "name": "python",
   "nbconvert_exporter": "python",
   "pygments_lexer": "ipython3",
   "version": "3.7.4"
  }
 },
 "nbformat": 4,
 "nbformat_minor": 4
}

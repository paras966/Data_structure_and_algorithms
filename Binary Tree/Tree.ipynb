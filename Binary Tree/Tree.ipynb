{
 "cells": [
  {
   "cell_type": "code",
   "execution_count": 2,
   "metadata": {},
   "outputs": [],
   "source": [
    "class Tree:\n",
    "    def __init__(self,data):\n",
    "        self.data=data\n",
    "        self.left=None\n",
    "        self.right=None"
   ]
  },
  {
   "cell_type": "code",
   "execution_count": 4,
   "metadata": {},
   "outputs": [],
   "source": [
    "def takeInputTree():\n",
    "    data = int(input())\n",
    "    if data==-1:\n",
    "        return None\n",
    "    root = Tree(data)\n",
    "    leftNode = takeInputTree()\n",
    "    rightNode=takeInputTree()\n",
    "    root.left=leftNode\n",
    "    root.right=rightNode\n",
    "    return root"
   ]
  },
  {
   "cell_type": "code",
   "execution_count": 10,
   "metadata": {},
   "outputs": [
    {
     "name": "stdout",
     "output_type": "stream",
     "text": [
      "1\n",
      "2\n",
      "4\n",
      "-1\n",
      "-1\n",
      "5\n",
      "-1\n",
      "-1\n",
      "3\n",
      "-1\n",
      "6\n",
      "-1\n",
      "-1\n"
     ]
    }
   ],
   "source": [
    "root=takeInputTree()"
   ]
  },
  {
   "cell_type": "code",
   "execution_count": 15,
   "metadata": {},
   "outputs": [],
   "source": [
    "def prePrintTree(root):\n",
    "    if root is None:\n",
    "        return\n",
    "    print(root.data)\n",
    "    prePrintTree(root.left)\n",
    "    prePrintTree(root.right)"
   ]
  },
  {
   "cell_type": "code",
   "execution_count": 16,
   "metadata": {},
   "outputs": [
    {
     "name": "stdout",
     "output_type": "stream",
     "text": [
      "1\n",
      "2\n",
      "4\n",
      "5\n",
      "3\n",
      "6\n"
     ]
    }
   ],
   "source": [
    "prePrintTree(root)"
   ]
  },
  {
   "cell_type": "code",
   "execution_count": 18,
   "metadata": {},
   "outputs": [],
   "source": [
    "def postPrintTree(root):\n",
    "    if root is None:\n",
    "        return\n",
    "    postPrintTree(root.left)\n",
    "    postPrintTree(root.right)\n",
    "    print(root.data)"
   ]
  },
  {
   "cell_type": "code",
   "execution_count": 19,
   "metadata": {},
   "outputs": [
    {
     "name": "stdout",
     "output_type": "stream",
     "text": [
      "4\n",
      "5\n",
      "2\n",
      "6\n",
      "3\n",
      "1\n"
     ]
    }
   ],
   "source": [
    "postPrintTree(root)"
   ]
  },
  {
   "cell_type": "code",
   "execution_count": 20,
   "metadata": {},
   "outputs": [],
   "source": [
    "def inPrintTree(root):\n",
    "    if root is None:\n",
    "        return\n",
    "    inPrintTree(root.left)\n",
    "    print(root.data)\n",
    "    inPrintTree(root.right)"
   ]
  },
  {
   "cell_type": "code",
   "execution_count": 21,
   "metadata": {},
   "outputs": [
    {
     "name": "stdout",
     "output_type": "stream",
     "text": [
      "4\n",
      "2\n",
      "5\n",
      "1\n",
      "3\n",
      "6\n"
     ]
    }
   ],
   "source": [
    "inPrintTree(root)"
   ]
  },
  {
   "cell_type": "code",
   "execution_count": 30,
   "metadata": {},
   "outputs": [],
   "source": [
    "def printInFormate(root):\n",
    "    if root is None:\n",
    "        return\n",
    "    print(root.data,end=\": \")\n",
    "    if root.left!=None:\n",
    "        print(\"L: \",root.left.data,end=\" \")\n",
    "    if root.right!=None:\n",
    "        print(\"R: \",root.right.data,end=\" \")\n",
    "    print()\n",
    "    printInFormate(root.left)\n",
    "    printInFormate(root.right)"
   ]
  },
  {
   "cell_type": "code",
   "execution_count": 31,
   "metadata": {},
   "outputs": [
    {
     "name": "stdout",
     "output_type": "stream",
     "text": [
      "1: L:  2 R:  3 \n",
      "2: L:  4 R:  5 \n",
      "4: \n",
      "5: \n",
      "3: R:  6 \n",
      "6: \n"
     ]
    }
   ],
   "source": [
    "printInFormate(root)"
   ]
  },
  {
   "cell_type": "code",
   "execution_count": null,
   "metadata": {},
   "outputs": [],
   "source": []
  }
 ],
 "metadata": {
  "kernelspec": {
   "display_name": "Python 3",
   "language": "python",
   "name": "python3"
  },
  "language_info": {
   "codemirror_mode": {
    "name": "ipython",
    "version": 3
   },
   "file_extension": ".py",
   "mimetype": "text/x-python",
   "name": "python",
   "nbconvert_exporter": "python",
   "pygments_lexer": "ipython3",
   "version": "3.7.4"
  }
 },
 "nbformat": 4,
 "nbformat_minor": 4
}

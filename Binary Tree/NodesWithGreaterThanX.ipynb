{
 "cells": [
  {
   "cell_type": "code",
   "execution_count": 1,
   "metadata": {},
   "outputs": [],
   "source": [
    "import Tree"
   ]
  },
  {
   "cell_type": "code",
   "execution_count": 2,
   "metadata": {},
   "outputs": [
    {
     "name": "stdout",
     "output_type": "stream",
     "text": [
      "1222\n",
      "3212\n",
      "342\n",
      "-1\n",
      "-1\n",
      "3343\n",
      "-1\n",
      "-1\n",
      "343\n",
      "-1\n",
      "999\n",
      "-1\n",
      "-1\n"
     ]
    }
   ],
   "source": [
    "root=Tree.takeInputTree()"
   ]
  },
  {
   "cell_type": "code",
   "execution_count": 3,
   "metadata": {},
   "outputs": [],
   "source": [
    "def nodesGreaterThanX(root,x):\n",
    "    if root is None:\n",
    "        return\n",
    "    if root.data > x:\n",
    "        print(root.data)\n",
    "    nodesGreaterThanX(root.left,x)\n",
    "    nodesGreaterThanX(root.right,x)"
   ]
  },
  {
   "cell_type": "code",
   "execution_count": 4,
   "metadata": {},
   "outputs": [
    {
     "name": "stdout",
     "output_type": "stream",
     "text": [
      "1222\n",
      "3212\n",
      "3343\n"
     ]
    }
   ],
   "source": [
    "nodesGreaterThanX(root,1000)"
   ]
  },
  {
   "cell_type": "code",
   "execution_count": null,
   "metadata": {},
   "outputs": [],
   "source": []
  }
 ],
 "metadata": {
  "kernelspec": {
   "display_name": "Python 3",
   "language": "python",
   "name": "python3"
  },
  "language_info": {
   "codemirror_mode": {
    "name": "ipython",
    "version": 3
   },
   "file_extension": ".py",
   "mimetype": "text/x-python",
   "name": "python",
   "nbconvert_exporter": "python",
   "pygments_lexer": "ipython3",
   "version": "3.7.4"
  }
 },
 "nbformat": 4,
 "nbformat_minor": 4
}
